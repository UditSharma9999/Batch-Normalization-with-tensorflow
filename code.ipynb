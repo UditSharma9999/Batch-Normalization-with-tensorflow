{
  "nbformat": 4,
  "nbformat_minor": 0,
  "metadata": {
    "colab": {
      "name": "Untitled0.ipynb",
      "provenance": []
    },
    "kernelspec": {
      "name": "python3",
      "display_name": "Python 3"
    },
    "language_info": {
      "name": "python"
    },
    "accelerator": "GPU",
    "gpuClass": "standard"
  },
  "cells": [
    {
      "cell_type": "markdown",
      "source": [
        "# Import all library"
      ],
      "metadata": {
        "id": "nHPhQrVdjn4K"
      }
    },
    {
      "cell_type": "code",
      "execution_count": 1,
      "metadata": {
        "id": "PwOzD8sJiL3s"
      },
      "outputs": [],
      "source": [
        "import tensorflow as tf\n",
        "from tensorflow.keras.datasets import mnist\n",
        "from tensorflow.keras.models import Sequential\n",
        "from tensorflow.keras.layers import Dense, Flatten\n",
        "from tensorflow.keras.layers import Conv2D, MaxPooling2D\n",
        "from tensorflow.keras.layers import BatchNormalization\n",
        "from tensorflow.keras.callbacks import EarlyStopping\n",
        "import matplotlib.pyplot as plt "
      ]
    },
    {
      "cell_type": "markdown",
      "source": [
        "# Loaing the data"
      ],
      "metadata": {
        "id": "yOiEoiaujZxK"
      }
    },
    {
      "cell_type": "code",
      "source": [
        "(input_train, target_train), (input_test, target_test) = mnist.load_data()"
      ],
      "metadata": {
        "id": "XfBwv23piVNM"
      },
      "execution_count": 2,
      "outputs": []
    },
    {
      "cell_type": "code",
      "source": [
        "# Shape of the input sets\n",
        "input_train_shape = input_train.shape\n",
        "input_test_shape = input_test.shape \n",
        "\n",
        "# Keras layer input shape\n",
        "input_shape = (input_train_shape[1], input_train_shape[2], 1)\n",
        "\n",
        "# Reshape the training data to include channels\n",
        "input_train = input_train.reshape(input_train_shape[0], input_train_shape[1], input_train_shape[2], 1)\n",
        "\n",
        "input_test = input_test.reshape(input_test_shape[0], input_test_shape[1], input_test_shape[2], 1)"
      ],
      "metadata": {
        "id": "J9sIdJhQiYME"
      },
      "execution_count": 3,
      "outputs": []
    },
    {
      "cell_type": "code",
      "source": [
        "# Parse numbers as floats\n",
        "input_train = input_train.astype('float32')\n",
        "input_test = input_test.astype('float32')\n",
        "\n",
        "# Normalize input data\n",
        "input_train = input_train / 255\n",
        "input_test = input_test / 255"
      ],
      "metadata": {
        "id": "MXQq-smliYEj"
      },
      "execution_count": 4,
      "outputs": []
    },
    {
      "cell_type": "markdown",
      "source": [
        "# Creating model without Batch Normalization"
      ],
      "metadata": {
        "id": "ck34bGnhj0CT"
      }
    },
    {
      "cell_type": "code",
      "source": [
        "batch_size = 250\n",
        "no_epochs = 6\n",
        "no_classes = 10\n",
        "validation_split = 0.2\n",
        "verbosity = 1"
      ],
      "metadata": {
        "id": "vWC2XuGpiTIh"
      },
      "execution_count": 5,
      "outputs": []
    },
    {
      "cell_type": "code",
      "source": [
        "model = Sequential()\n",
        "model.add(Conv2D(32, kernel_size=(3, 3), activation='relu', input_shape=input_shape))\n",
        "model.add(MaxPooling2D(pool_size=(2, 2)))\n",
        "model.add(Flatten())\n",
        "model.add(Dense(64, activation='relu'))\n",
        "model.add(Dense(no_classes, activation='softmax'))"
      ],
      "metadata": {
        "id": "k25gCBvbicLE"
      },
      "execution_count": 6,
      "outputs": []
    },
    {
      "cell_type": "code",
      "source": [
        "model.compile(\n",
        "    loss=tf.keras.losses.sparse_categorical_crossentropy,\n",
        "    optimizer=tf.keras.optimizers.Adam(),\n",
        "    metrics=['accuracy']\n",
        ")"
      ],
      "metadata": {
        "id": "eTJVQ3QJidZ4"
      },
      "execution_count": 7,
      "outputs": []
    },
    {
      "cell_type": "code",
      "source": [
        "earlyStopping = EarlyStopping(monitor='val_loss',patience=3)"
      ],
      "metadata": {
        "id": "6xONu8NFiyIt"
      },
      "execution_count": 8,
      "outputs": []
    },
    {
      "cell_type": "code",
      "source": [
        "history = model.fit(\n",
        "    input_train, target_train,\n",
        "    batch_size=batch_size,\n",
        "    epochs=no_epochs,\n",
        "    verbose=verbosity,\n",
        "    validation_split=validation_split,\n",
        "    callbacks=[earlyStopping])"
      ],
      "metadata": {
        "colab": {
          "base_uri": "https://localhost:8080/"
        },
        "id": "PMeaM0mXievS",
        "outputId": "807c2c53-4ed2-4c00-8987-f7b21b5e9034"
      },
      "execution_count": 9,
      "outputs": [
        {
          "output_type": "stream",
          "name": "stdout",
          "text": [
            "Epoch 1/6\n",
            "192/192 [==============================] - 34s 176ms/step - loss: 0.3852 - accuracy: 0.8985 - val_loss: 0.1531 - val_accuracy: 0.9567\n",
            "Epoch 2/6\n",
            "192/192 [==============================] - 18s 96ms/step - loss: 0.1161 - accuracy: 0.9661 - val_loss: 0.0911 - val_accuracy: 0.9740\n",
            "Epoch 3/6\n",
            "192/192 [==============================] - 18s 95ms/step - loss: 0.0777 - accuracy: 0.9781 - val_loss: 0.0720 - val_accuracy: 0.9797\n",
            "Epoch 4/6\n",
            "192/192 [==============================] - 18s 95ms/step - loss: 0.0582 - accuracy: 0.9833 - val_loss: 0.0665 - val_accuracy: 0.9793\n",
            "Epoch 5/6\n",
            "192/192 [==============================] - 20s 104ms/step - loss: 0.0469 - accuracy: 0.9865 - val_loss: 0.0685 - val_accuracy: 0.9793\n",
            "Epoch 6/6\n",
            "192/192 [==============================] - 19s 100ms/step - loss: 0.0404 - accuracy: 0.9886 - val_loss: 0.0579 - val_accuracy: 0.9820\n"
          ]
        }
      ]
    },
    {
      "cell_type": "code",
      "source": [
        "plt.plot(history.history['accuracy'])\n",
        "plt.plot(history.history['val_accuracy'])\n",
        "plt.title('model accuracy')\n",
        "plt.ylabel('accuracy')\n",
        "plt.xlabel('epoch')\n",
        "plt.legend(['train', 'test'], loc='lower right')\n",
        "plt.show()"
      ],
      "metadata": {
        "colab": {
          "base_uri": "https://localhost:8080/",
          "height": 295
        },
        "id": "UJiRlbxsjQmb",
        "outputId": "444427b3-e6e0-4081-e9ab-ae1e05e7dcae"
      },
      "execution_count": 10,
      "outputs": [
        {
          "output_type": "display_data",
          "data": {
            "text/plain": [
              "<Figure size 432x288 with 1 Axes>"
            ],
            "image/png": "[encoded data removed]"
          },
          "metadata": {
            "needs_background": "light"
          }
        }
      ]
    },
    {
      "cell_type": "code",
      "source": [
        "score = model.evaluate(input_test, target_test, verbose=0)\n",
        "print(f'Test loss: {score[0]} / Test accuracy: {score[1]}')"
      ],
      "metadata": {
        "colab": {
          "base_uri": "https://localhost:8080/"
        },
        "id": "9ct2QlqtioGU",
        "outputId": "838cf1f6-29dc-452c-dfba-2da34fdbab91"
      },
      "execution_count": 11,
      "outputs": [
        {
          "output_type": "stream",
          "name": "stdout",
          "text": [
            "Test loss: 0.048002857714891434 / Test accuracy: 0.9847000241279602\n"
          ]
        }
      ]
    },
    {
      "cell_type": "markdown",
      "source": [
        "# Model with Batch Normalization"
      ],
      "metadata": {
        "id": "oGnyZBKuj7Ql"
      }
    },
    {
      "cell_type": "code",
      "source": [
        "model = Sequential()\n",
        "model.add(Conv2D(32, kernel_size=(3, 3), activation='relu', input_shape=input_shape))\n",
        "model.add(BatchNormalization())\n",
        "model.add(MaxPooling2D(pool_size=(2, 2)))\n",
        "model.add(BatchNormalization())\n",
        "model.add(Flatten())\n",
        "model.add(Dense(64, activation='relu'))\n",
        "model.add(BatchNormalization())\n",
        "model.add(Dense(no_classes, activation='softmax'))"
      ],
      "metadata": {
        "id": "6db1QndZjFQS"
      },
      "execution_count": 12,
      "outputs": []
    },
    {
      "cell_type": "code",
      "source": [
        "model.compile(\n",
        "    loss=tf.keras.losses.sparse_categorical_crossentropy,\n",
        "    optimizer=tf.keras.optimizers.Adam(),\n",
        "    metrics=['accuracy']\n",
        ")"
      ],
      "metadata": {
        "id": "bOqfC9jojML2"
      },
      "execution_count": 13,
      "outputs": []
    },
    {
      "cell_type": "code",
      "source": [
        "history = model.fit(\n",
        "    input_train, target_train,\n",
        "    batch_size=batch_size,\n",
        "    epochs=no_epochs,\n",
        "    verbose=verbosity,\n",
        "    validation_split=validation_split,\n",
        "    callbacks=[earlyStopping]\n",
        ")"
      ],
      "metadata": {
        "colab": {
          "base_uri": "https://localhost:8080/"
        },
        "id": "A3Zib36TjOWH",
        "outputId": "a83d5576-53a9-4b94-dc6e-dcaf4c63c7f1"
      },
      "execution_count": 14,
      "outputs": [
        {
          "output_type": "stream",
          "name": "stdout",
          "text": [
            "Epoch 1/6\n",
            "192/192 [==============================] - 35s 178ms/step - loss: 0.2023 - accuracy: 0.9438 - val_loss: 2.8909 - val_accuracy: 0.2132\n",
            "Epoch 2/6\n",
            "192/192 [==============================] - 33s 172ms/step - loss: 0.0588 - accuracy: 0.9844 - val_loss: 1.5566 - val_accuracy: 0.4734\n",
            "Epoch 3/6\n",
            "192/192 [==============================] - 33s 172ms/step - loss: 0.0334 - accuracy: 0.9912 - val_loss: 0.1766 - val_accuracy: 0.9545\n",
            "Epoch 4/6\n",
            "192/192 [==============================] - 34s 177ms/step - loss: 0.0216 - accuracy: 0.9947 - val_loss: 0.0729 - val_accuracy: 0.9768\n",
            "Epoch 5/6\n",
            "192/192 [==============================] - 33s 173ms/step - loss: 0.0120 - accuracy: 0.9979 - val_loss: 0.0627 - val_accuracy: 0.9811\n",
            "Epoch 6/6\n",
            "192/192 [==============================] - 34s 177ms/step - loss: 0.0064 - accuracy: 0.9993 - val_loss: 0.0507 - val_accuracy: 0.9843\n"
          ]
        }
      ]
    },
    {
      "cell_type": "code",
      "source": [
        "plt.plot(history.history['accuracy'])\n",
        "plt.plot(history.history['val_accuracy'])\n",
        "plt.title('model accuracy')\n",
        "plt.ylabel('accuracy')\n",
        "plt.xlabel('epoch')\n",
        "plt.legend(['train', 'test'], loc='lower right')\n",
        "plt.show()"
      ],
      "metadata": {
        "colab": {
          "base_uri": "https://localhost:8080/",
          "height": 295
        },
        "id": "p0YEuHBZjUQW",
        "outputId": "42e92e1e-c985-4a11-bf0c-807b8472024c"
      },
      "execution_count": 15,
      "outputs": [
        {
          "output_type": "display_data",
          "data": {
            "text/plain": [
              "<Figure size 432x288 with 1 Axes>"
            ],
            "image/png": "[encoded data removed]"
          },
          "metadata": {
            "needs_background": "light"
          }
        }
      ]
    },
    {
      "cell_type": "code",
      "source": [
        "score = model.evaluate(input_test, target_test, verbose=0)\n",
        "print(f'Test loss: {score[0]} / Test accuracy: {score[1]}')"
      ],
      "metadata": {
        "colab": {
          "base_uri": "https://localhost:8080/"
        },
        "id": "DUXhHS3rlIkw",
        "outputId": "53a9c3a4-f41e-4ec8-9339-78b70169b273"
      },
      "execution_count": 16,
      "outputs": [
        {
          "output_type": "stream",
          "name": "stdout",
          "text": [
            "Test loss: 0.052501171827316284 / Test accuracy: 0.9840999841690063\n"
          ]
        }
      ]
    }
  ]
}